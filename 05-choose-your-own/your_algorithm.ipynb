{
 "cells": [
  {
   "cell_type": "code",
   "execution_count": 5,
   "metadata": {},
   "outputs": [],
   "source": [
    "import matplotlib.pyplot as plt\n",
    "\n",
    "from prep_terrain_data import make_terrain_data\n",
    "from class_vis import pretty_picture"
   ]
  },
  {
   "cell_type": "code",
   "execution_count": 6,
   "metadata": {},
   "outputs": [],
   "source": [
    "features_train, labels_train, features_test, labels_test = make_terrain_data()"
   ]
  },
  {
   "cell_type": "markdown",
   "metadata": {},
   "source": [
    "the training data (`features_train`, `labels_train`) have both `\"fast\"` and `\"slow\"` points mixed together\n",
    "separate them so we can give them different colors in the scatterplot and identify them visually"
   ]
  },
  {
   "cell_type": "code",
   "execution_count": 7,
   "metadata": {},
   "outputs": [],
   "source": [
    "grade_fast = [features_train[ii][0] for ii in range(0, len(features_train)) if labels_train[ii] == 0]\n",
    "bumpy_fast = [features_train[ii][1] for ii in range(0, len(features_train)) if labels_train[ii] == 0]\n",
    "grade_slow = [features_train[ii][0] for ii in range(0, len(features_train)) if labels_train[ii] == 1]\n",
    "bumpy_slow = [features_train[ii][1] for ii in range(0, len(features_train)) if labels_train[ii] == 1]"
   ]
  },
  {
   "cell_type": "markdown",
   "metadata": {},
   "source": [
    "initial visualization"
   ]
  },
  {
   "cell_type": "code",
   "execution_count": 8,
   "metadata": {},
   "outputs": [
    {
     "data": {
      "text/plain": "<Figure size 432x288 with 1 Axes>",
      "image/png": "[encoded data removed]"
     },
     "metadata": {
      "needs_background": "light"
     },
     "output_type": "display_data"
    }
   ],
   "source": [
    "plt.xlim(0.0, 1.0)\n",
    "plt.ylim(0.0, 1.0)\n",
    "plt.scatter(bumpy_fast, grade_fast, color = \"b\", label=\"fast\")\n",
    "plt.scatter(grade_slow, bumpy_slow, color = \"r\", label=\"slow\")\n",
    "plt.legend()\n",
    "plt.xlabel(\"bumpiness\")\n",
    "plt.ylabel(\"grade\")\n",
    "plt.show()"
   ]
  },
  {
   "cell_type": "markdown",
   "metadata": {},
   "source": [
    "## ↓↓↓ Your Code Goes Here ↓↓↓"
   ]
  },
  {
   "cell_type": "markdown",
   "metadata": {},
   "source": [
    "name your classifier object `clf` if you want the visualization code `pretty_picture` to show you the decision boundary"
   ]
  },
  {
   "cell_type": "code",
   "execution_count": 9,
   "metadata": {},
   "outputs": [],
   "source": [
    "from sklearn.ensemble import AdaBoostClassifier\n",
    "from sklearn.model_selection import RandomizedSearchCV\n",
    "from sklearn.metrics import accuracy_score"
   ]
  },
  {
   "cell_type": "code",
   "execution_count": 19,
   "outputs": [],
   "source": [
    "clf = AdaBoostClassifier(n_estimators=50, learning_rate = 0.1,algorithm='SAMME.R')\n",
    "clf.fit(features_train, labels_train)\n",
    "pred = clf.predict(features_test)"
   ],
   "metadata": {
    "collapsed": false,
    "pycharm": {
     "name": "#%%\n"
    }
   }
  },
  {
   "cell_type": "code",
   "execution_count": 20,
   "outputs": [
    {
     "data": {
      "text/plain": "0.916"
     },
     "execution_count": 20,
     "metadata": {},
     "output_type": "execute_result"
    }
   ],
   "source": [
    "accuracy_score(pred,labels_test)"
   ],
   "metadata": {
    "collapsed": false,
    "pycharm": {
     "name": "#%%\n"
    }
   }
  },
  {
   "cell_type": "code",
   "execution_count": 13,
   "outputs": [
    {
     "data": {
      "text/plain": "{'n_estimators': 50, 'learning_rate': 0.1, 'algorithm': 'SAMME.R'}"
     },
     "execution_count": 13,
     "metadata": {},
     "output_type": "execute_result"
    }
   ],
   "source": [
    "param_dist = {\n",
    " 'n_estimators': [25, 50, 100],\n",
    " 'learning_rate' : [0.01,0.05,0.1,0.3,1,1.1],\n",
    "  'algorithm': ['SAMME', 'SAMME.R']\n",
    " }\n",
    "\n",
    "clf_search = RandomizedSearchCV(AdaBoostClassifier(),\n",
    " param_distributions = param_dist,\n",
    " cv=3,\n",
    " n_iter = 10)\n",
    "\n",
    "search = clf_search.fit(features_train, labels_train)\n",
    "search.best_estimator_.get_params()"
   ],
   "metadata": {
    "collapsed": false,
    "pycharm": {
     "name": "#%%\n"
    }
   }
  },
  {
   "cell_type": "code",
   "execution_count": 14,
   "outputs": [
    {
     "data": {
      "text/plain": "{'mean_fit_time': array([0.0538516 , 0.02824656, 0.10439618, 0.11168989, 0.02825697,\n        0.03058958, 0.05684805, 0.05619637, 0.05817787, 0.17087372]),\n 'std_fit_time': array([0.00424741, 0.00047433, 0.0038461 , 0.00355462, 0.00047757,\n        0.00123326, 0.00081439, 0.00125495, 0.00542249, 0.05895503]),\n 'mean_score_time': array([0.00399892, 0.003335  , 0.00729505, 0.01198665, 0.00365003,\n        0.00365003, 0.00664862, 0.00631452, 0.00698415, 0.0162909 ]),\n 'std_score_time': array([1.53976487e-05, 4.64612544e-04, 4.60912482e-04, 1.39487887e-05,\n        4.89366600e-04, 4.81204864e-04, 4.70077941e-04, 4.67155679e-04,\n        1.41534742e-03, 2.61669991e-03]),\n 'param_n_estimators': masked_array(data=[50, 25, 100, 100, 25, 25, 50, 50, 50, 100],\n              mask=[False, False, False, False, False, False, False, False,\n                    False, False],\n        fill_value='?',\n             dtype=object),\n 'param_learning_rate': masked_array(data=[0.01, 1.1, 1, 0.01, 0.01, 0.3, 0.1, 1.1, 1, 1],\n              mask=[False, False, False, False, False, False, False, False,\n                    False, False],\n        fill_value='?',\n             dtype=object),\n 'param_algorithm': masked_array(data=['SAMME', 'SAMME.R', 'SAMME', 'SAMME.R', 'SAMME.R',\n                    'SAMME.R', 'SAMME.R', 'SAMME.R', 'SAMME.R', 'SAMME.R'],\n              mask=[False, False, False, False, False, False, False, False,\n                    False, False],\n        fill_value='?',\n             dtype=object),\n 'params': [{'n_estimators': 50, 'learning_rate': 0.01, 'algorithm': 'SAMME'},\n  {'n_estimators': 25, 'learning_rate': 1.1, 'algorithm': 'SAMME.R'},\n  {'n_estimators': 100, 'learning_rate': 1, 'algorithm': 'SAMME'},\n  {'n_estimators': 100, 'learning_rate': 0.01, 'algorithm': 'SAMME.R'},\n  {'n_estimators': 25, 'learning_rate': 0.01, 'algorithm': 'SAMME.R'},\n  {'n_estimators': 25, 'learning_rate': 0.3, 'algorithm': 'SAMME.R'},\n  {'n_estimators': 50, 'learning_rate': 0.1, 'algorithm': 'SAMME.R'},\n  {'n_estimators': 50, 'learning_rate': 1.1, 'algorithm': 'SAMME.R'},\n  {'n_estimators': 50, 'learning_rate': 1, 'algorithm': 'SAMME.R'},\n  {'n_estimators': 100, 'learning_rate': 1, 'algorithm': 'SAMME.R'}],\n 'split0_test_score': array([0.712, 0.956, 0.944, 0.812, 0.812, 0.96 , 0.96 , 0.924, 0.936,\n        0.924]),\n 'split1_test_score': array([0.728, 0.948, 0.96 , 0.852, 0.728, 0.96 , 0.96 , 0.956, 0.956,\n        0.944]),\n 'split2_test_score': array([0.832, 0.964, 0.96 , 0.816, 0.812, 0.952, 0.956, 0.964, 0.96 ,\n        0.952]),\n 'mean_test_score': array([0.75733333, 0.956     , 0.95466667, 0.82666667, 0.784     ,\n        0.95733333, 0.95866667, 0.948     , 0.95066667, 0.94      ]),\n 'std_test_score': array([0.05319983, 0.00653197, 0.00754247, 0.01798765, 0.03959798,\n        0.00377124, 0.00188562, 0.01728198, 0.01049868, 0.01177568]),\n 'rank_test_score': array([10,  3,  4,  8,  9,  2,  1,  6,  5,  7])}"
     },
     "execution_count": 14,
     "metadata": {},
     "output_type": "execute_result"
    }
   ],
   "source": [
    "search.cv_results_"
   ],
   "metadata": {
    "collapsed": false,
    "pycharm": {
     "name": "#%%\n"
    }
   }
  },
  {
   "cell_type": "code",
   "execution_count": 21,
   "outputs": [],
   "source": [
    "pred2 = search.predict(features_test)"
   ],
   "metadata": {
    "collapsed": false,
    "pycharm": {
     "name": "#%%\n"
    }
   }
  },
  {
   "cell_type": "code",
   "execution_count": 22,
   "outputs": [
    {
     "data": {
      "text/plain": "0.916"
     },
     "execution_count": 22,
     "metadata": {},
     "output_type": "execute_result"
    }
   ],
   "source": [
    "accuracy_score(pred2,labels_test)"
   ],
   "metadata": {
    "collapsed": false,
    "pycharm": {
     "name": "#%%\n"
    }
   }
  },
  {
   "cell_type": "code",
   "execution_count": 16,
   "metadata": {},
   "outputs": [
    {
     "name": "stderr",
     "output_type": "stream",
     "text": [
      "C:\\Users\\Margarida\\Documents\\Udacity\\ud120-projects-py3-jupyter\\05-choose-your-own\\class_vis.py:25: MatplotlibDeprecationWarning: shading='flat' when X and Y have the same dimensions as C is deprecated since 3.3.  Either specify the corners of the quadrilaterals with X and Y, or pass shading='auto', 'nearest' or 'gouraud', or set rcParams['pcolor.shading'].  This will become an error two minor releases later.\n",
      "  plt.pcolormesh(xx, yy, Z, cmap='seismic')\n"
     ]
    },
    {
     "data": {
      "text/plain": "<Figure size 432x288 with 1 Axes>",
      "image/png": "[encoded data removed]"
     },
     "metadata": {
      "needs_background": "light"
     },
     "output_type": "display_data"
    }
   ],
   "source": [
    "try:\n",
    "    pretty_picture(search, features_test, labels_test)\n",
    "except NameError:\n",
    "    pass"
   ]
  },
  {
   "cell_type": "code",
   "execution_count": null,
   "outputs": [],
   "source": [],
   "metadata": {
    "collapsed": false,
    "pycharm": {
     "name": "#%%\n"
    }
   }
  }
 ],
 "metadata": {
  "kernelspec": {
   "display_name": "Python 3",
   "language": "python",
   "name": "python3"
  },
  "language_info": {
   "codemirror_mode": {
    "name": "ipython",
    "version": 3
   },
   "file_extension": ".py",
   "mimetype": "text/x-python",
   "name": "python",
   "nbconvert_exporter": "python",
   "pygments_lexer": "ipython3",
   "version": "3.8.2"
  }
 },
 "nbformat": 4,
 "nbformat_minor": 4
}