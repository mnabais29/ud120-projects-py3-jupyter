{
 "cells": [
  {
   "cell_type": "markdown",
   "metadata": {},
   "source": [
    "# Starter code for exploring the Enron dataset (emails + finances)\n",
    "\n",
    "Loads up the dataset (pickled dict of dicts)\n",
    "\n",
    "The dataset has the form: `enron_data[\"LASTNAME FIRSTNAME MIDDLEINITIAL\"] = { features_dict }`\n",
    "\n",
    "`{features_dict}` is a dictionary of features associated with that person.\n",
    "\n",
    "You should explore `features_dict` as part of the mini-project, but here's an example to get you started:\n",
    "\n",
    "`enron_data[\"SKILLING JEFFREY K\"][\"bonus\"] = 5600000`"
   ]
  },
  {
   "cell_type": "code",
   "execution_count": 2,
   "metadata": {},
   "outputs": [],
   "source": [
    "import pickle\n",
    "\n",
    "with open('../17-final-project/final_project_dataset_unix.pkl', 'rb') as f:\n",
    "    enron_data = pickle.load(f)"
   ]
  },
  {
   "cell_type": "markdown",
   "metadata": {},
   "source": [
    "## ↓↓↓ Your Code Goes Here ↓↓↓"
   ]
  },
  {
   "cell_type": "code",
   "execution_count": 3,
   "metadata": {
    "pycharm": {
     "name": "#%%\n"
    }
   },
   "outputs": [
    {
     "data": {
      "text/plain": "146"
     },
     "execution_count": 3,
     "metadata": {},
     "output_type": "execute_result"
    }
   ],
   "source": [
    "len(enron_data.keys())\n"
   ]
  },
  {
   "cell_type": "code",
   "execution_count": 4,
   "outputs": [
    {
     "data": {
      "text/plain": "21"
     },
     "execution_count": 4,
     "metadata": {},
     "output_type": "execute_result"
    }
   ],
   "source": [
    "len(list(enron_data.values())[0].keys())\n",
    "#OR\n",
    "len(enron_data['METTS MARK'].keys())\n",
    "#OR\n",
    "len(list(enron_data.values())[0])\n"
   ],
   "metadata": {
    "collapsed": false,
    "pycharm": {
     "name": "#%%\n"
    }
   }
  },
  {
   "cell_type": "code",
   "execution_count": 72,
   "outputs": [
    {
     "data": {
      "text/plain": "18"
     },
     "execution_count": 72,
     "metadata": {},
     "output_type": "execute_result"
    }
   ],
   "source": [
    "count_pois=0\n",
    "for person_name in enron_data.keys():\n",
    "    if enron_data[person_name][\"poi\"]==1:\n",
    "        count_pois+=1\n",
    "count_pois"
   ],
   "metadata": {
    "collapsed": false,
    "pycharm": {
     "name": "#%%\n"
    }
   }
  },
  {
   "cell_type": "code",
   "execution_count": 6,
   "outputs": [],
   "source": [
    "with open('../17-final-project/poi_names.txt') as f:\n",
    "    lines = f.readlines()"
   ],
   "metadata": {
    "collapsed": false,
    "pycharm": {
     "name": "#%%\n"
    }
   }
  },
  {
   "cell_type": "code",
   "execution_count": 7,
   "outputs": [
    {
     "data": {
      "text/plain": "['http://usatoday30.usatoday.com/money/industries/energy/2005-12-28-enron-participants_x.htm\\n',\n '\\n',\n '(y) Lay, Kenneth\\n',\n '(y) Skilling, Jeffrey\\n',\n '(n) Howard, Kevin\\n',\n '(n) Krautz, Michael\\n',\n '(n) Yeager, Scott\\n',\n '(n) Hirko, Joseph\\n',\n '(n) Shelby, Rex\\n',\n '(n) Bermingham, David\\n',\n '(n) Darby, Giles\\n',\n '(n) Mulgrew, Gary\\n',\n '(n) Bayley, Daniel\\n',\n '(n) Brown, James\\n',\n '(n) Furst, Robert\\n',\n '(n) Fuhs, William\\n',\n '(n) Causey, Richard\\n',\n '(n) Calger, Christopher\\n',\n '(n) DeSpain, Timothy\\n',\n '(n) Hannon, Kevin\\n',\n '(n) Koenig, Mark\\n',\n '(y) Forney, John\\n',\n '(n) Rice, Kenneth\\n',\n '(n) Rieker, Paula\\n',\n '(n) Fastow, Lea\\n',\n '(n) Fastow, Andrew\\n',\n '(y) Delainey, David\\n',\n '(n) Glisan, Ben\\n',\n '(n) Richter, Jeffrey\\n',\n '(n) Lawyer, Larry\\n',\n '(n) Belden, Timothy\\n',\n '(n) Kopper, Michael\\n',\n '(n) Duncan, David\\n',\n '(n) Bowen, Raymond\\n',\n '(n) Colwell, Wesley\\n',\n '(n) Boyle, Dan\\n',\n '(n) Loehr, Christopher\\n']"
     },
     "execution_count": 7,
     "metadata": {},
     "output_type": "execute_result"
    }
   ],
   "source": [
    "lines"
   ],
   "metadata": {
    "collapsed": false,
    "pycharm": {
     "name": "#%%\n"
    }
   }
  },
  {
   "cell_type": "code",
   "execution_count": 8,
   "outputs": [
    {
     "data": {
      "text/plain": "35"
     },
     "execution_count": 8,
     "metadata": {},
     "output_type": "execute_result"
    }
   ],
   "source": [
    "list_names = lines[2:]\n",
    "len(list_names)"
   ],
   "metadata": {
    "collapsed": false,
    "pycharm": {
     "name": "#%%\n"
    }
   }
  },
  {
   "cell_type": "code",
   "execution_count": 9,
   "outputs": [
    {
     "data": {
      "text/plain": "1095040"
     },
     "execution_count": 9,
     "metadata": {},
     "output_type": "execute_result"
    }
   ],
   "source": [
    "enron_data[\"PRENTICE JAMES\"]['total_stock_value']"
   ],
   "metadata": {
    "collapsed": false,
    "pycharm": {
     "name": "#%%\n"
    }
   }
  },
  {
   "cell_type": "code",
   "execution_count": 10,
   "outputs": [
    {
     "data": {
      "text/plain": "11"
     },
     "execution_count": 10,
     "metadata": {},
     "output_type": "execute_result"
    }
   ],
   "source": [
    "#email messages from Wesley Colwell to persons of interest\n",
    "enron_data[\"COLWELL WESLEY\"]['from_this_person_to_poi']"
   ],
   "metadata": {
    "collapsed": false,
    "pycharm": {
     "name": "#%%\n"
    }
   }
  },
  {
   "cell_type": "code",
   "execution_count": 11,
   "outputs": [
    {
     "data": {
      "text/plain": "19250000"
     },
     "execution_count": 11,
     "metadata": {},
     "output_type": "execute_result"
    }
   ],
   "source": [
    "#value of stock options exercised by Jeffrey K Skilling\n",
    "enron_data[\"SKILLING JEFFREY K\"]['exercised_stock_options']"
   ],
   "metadata": {
    "collapsed": false,
    "pycharm": {
     "name": "#%%\n"
    }
   }
  },
  {
   "cell_type": "code",
   "execution_count": 12,
   "outputs": [
    {
     "name": "stdout",
     "output_type": "stream",
     "text": [
      "2424083 8682716 103559793\n"
     ]
    }
   ],
   "source": [
    "print(\"{} {} {}\".format(enron_data[\"FASTOW ANDREW S\"]['total_payments'],\n",
    "                          enron_data[\"SKILLING JEFFREY K\"]['total_payments'],\n",
    "                          enron_data[\"LAY KENNETH L\"]['total_payments']))\n"
   ],
   "metadata": {
    "collapsed": false,
    "pycharm": {
     "name": "#%%\n"
    }
   }
  },
  {
   "cell_type": "code",
   "execution_count": 13,
   "outputs": [
    {
     "name": "stdout",
     "output_type": "stream",
     "text": [
      "95 111\n"
     ]
    }
   ],
   "source": [
    "# Count quatified salary\n",
    "count_salary=0\n",
    "# Count how many have an email address\n",
    "count_emails=0\n",
    "for person_name in enron_data.keys():\n",
    "    if enron_data[person_name][\"salary\"]!='NaN':\n",
    "        count_salary+=1\n",
    "    if enron_data[person_name][\"email_address\"]!='NaN':\n",
    "        count_emails+=1\n",
    "\n",
    "print(count_salary,count_emails)"
   ],
   "metadata": {
    "collapsed": false,
    "pycharm": {
     "name": "#%%\n"
    }
   }
  },
  {
   "cell_type": "code",
   "execution_count": 14,
   "outputs": [
    {
     "name": "stdout",
     "output_type": "stream",
     "text": [
      "14.383561643835616\n"
     ]
    }
   ],
   "source": [
    "count_no_pay=0\n",
    "for person_name in enron_data.keys():\n",
    "    if enron_data[person_name][\"total_payments\"]=='NaN':\n",
    "        count_no_pay+=1\n",
    "count_no_pay\n",
    "percentage_no_pay = count_no_pay/len(enron_data.keys())*100\n",
    "print(percentage_no_pay)"
   ],
   "metadata": {
    "collapsed": false,
    "pycharm": {
     "name": "#%%\n"
    }
   }
  },
  {
   "cell_type": "code",
   "execution_count": 15,
   "outputs": [
    {
     "data": {
      "text/plain": "'SKILLING JEFFREY'"
     },
     "execution_count": 15,
     "metadata": {},
     "output_type": "execute_result"
    }
   ],
   "source": [
    "name = list_names[1][4:].upper().rstrip('\\n').replace(\",\", \"\")\n",
    "name"
   ],
   "metadata": {
    "collapsed": false,
    "pycharm": {
     "name": "#%%\n"
    }
   }
  },
  {
   "cell_type": "code",
   "execution_count": 16,
   "outputs": [
    {
     "data": {
      "text/plain": "['LAY KENNETH',\n 'SKILLING JEFFREY',\n 'HOWARD KEVIN',\n 'KRAUTZ MICHAEL',\n 'YEAGER SCOTT',\n 'HIRKO JOSEPH',\n 'SHELBY REX',\n 'BERMINGHAM DAVID',\n 'DARBY GILES',\n 'MULGREW GARY',\n 'BAYLEY DANIEL',\n 'BROWN JAMES',\n 'FURST ROBERT',\n 'FUHS WILLIAM',\n 'CAUSEY RICHARD',\n 'CALGER CHRISTOPHER',\n 'DESPAIN TIMOTHY',\n 'HANNON KEVIN',\n 'KOENIG MARK',\n 'FORNEY JOHN',\n 'RICE KENNETH',\n 'RIEKER PAULA',\n 'FASTOW LEA',\n 'FASTOW ANDREW',\n 'DELAINEY DAVID',\n 'GLISAN BEN',\n 'RICHTER JEFFREY',\n 'LAWYER LARRY',\n 'BELDEN TIMOTHY',\n 'KOPPER MICHAEL',\n 'DUNCAN DAVID',\n 'BOWEN RAYMOND',\n 'COLWELL WESLEY',\n 'BOYLE DAN',\n 'LOEHR CHRISTOPHER']"
     },
     "execution_count": 16,
     "metadata": {},
     "output_type": "execute_result"
    }
   ],
   "source": [
    "names=[]\n",
    "for poi in list_names:\n",
    "    names.append(poi[4:].upper().rstrip('\\n').replace(\",\", \"\"))\n",
    "names"
   ],
   "metadata": {
    "collapsed": false,
    "pycharm": {
     "name": "#%%\n"
    }
   }
  },
  {
   "cell_type": "code",
   "execution_count": 17,
   "outputs": [
    {
     "name": "stdout",
     "output_type": "stream",
     "text": [
      "95 111\n"
     ]
    }
   ],
   "source": [
    "# Count quatified salary\n",
    "count_salary=0\n",
    "# Count how many have an email address\n",
    "count_emails=0\n",
    "for value_dic in enron_data.values():\n",
    "    if value_dic[\"salary\"]!='NaN':\n",
    "        count_salary+=1\n",
    "    if value_dic[\"email_address\"]!='NaN':\n",
    "        count_emails+=1\n",
    "\n",
    "print(count_salary,count_emails)"
   ],
   "metadata": {
    "collapsed": false,
    "pycharm": {
     "name": "#%%\n"
    }
   }
  },
  {
   "cell_type": "code",
   "execution_count": 73,
   "outputs": [
    {
     "data": {
      "text/plain": "0"
     },
     "execution_count": 73,
     "metadata": {},
     "output_type": "execute_result"
    }
   ],
   "source": [
    "# POIs in the E+F dataset have “NaN” for their total payments\n",
    "count_pois_no_pay=0\n",
    "for poi in names:\n",
    "    for i in list(enron_data):\n",
    "        if i.find(poi)!=-1:\n",
    "            if enron_data[i]['total_payments']=='NaN':\n",
    "                count_pois_no_pay+=1\n",
    "count_pois_no_pay\n"
   ],
   "metadata": {
    "collapsed": false,
    "pycharm": {
     "name": "#%%\n"
    }
   }
  }
 ],
 "metadata": {
  "kernelspec": {
   "name": "pycharm-61798388",
   "language": "python",
   "display_name": "PyCharm (ud120-projects-py3-jupyter)"
  },
  "language_info": {
   "codemirror_mode": {
    "name": "ipython",
    "version": 3
   },
   "file_extension": ".py",
   "mimetype": "text/x-python",
   "name": "python",
   "nbconvert_exporter": "python",
   "pygments_lexer": "ipython3",
   "version": "3.8.2"
  }
 },
 "nbformat": 4,
 "nbformat_minor": 4
}