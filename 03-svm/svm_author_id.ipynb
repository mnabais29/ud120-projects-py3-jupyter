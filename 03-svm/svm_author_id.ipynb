{
 "cells": [
  {
   "cell_type": "markdown",
   "metadata": {},
   "source": [
    "# This is the code to accompany the Lesson 2 (SVM) mini-project\n",
    "\n",
    "### Use a SVM to identify emails from the Enron corpus by their authors\n",
    "\n",
    "authors and labels:\n",
    "- Sara has label `0`\n",
    "- Chris has label `1`"
   ]
  },
  {
   "cell_type": "code",
   "execution_count": 13,
   "metadata": {},
   "outputs": [],
   "source": [
    "import sys\n",
    "from time import time\n",
    "sys.path.append('../utils/')\n",
    "\n",
    "from email_preprocess import preprocess"
   ]
  },
  {
   "cell_type": "markdown",
   "metadata": {},
   "source": [
    "- `features_train` and `features_test` are the features for the training and testing datasets, respectively\n",
    "- `labels_train` and `labels_test` are the corresponding item labels"
   ]
  },
  {
   "cell_type": "code",
   "execution_count": 14,
   "metadata": {},
   "outputs": [
    {
     "name": "stdout",
     "output_type": "stream",
     "text": [
      "no. of Chris training emails: 7936\n",
      "no. of Sara training emails: 7884\n"
     ]
    }
   ],
   "source": [
    "features_train, features_test, labels_train, labels_test = preprocess()"
   ]
  },
  {
   "cell_type": "markdown",
   "metadata": {},
   "source": [
    "## ↓↓↓ Your Code Goes Here ↓↓↓"
   ]
  },
  {
   "cell_type": "code",
   "execution_count": 15,
   "metadata": {},
   "outputs": [],
   "source": [
    "from sklearn.svm import SVC\n",
    "from sklearn.metrics import accuracy_score\n",
    "from sklearn.model_selection import GridSearchCV"
   ]
  },
  {
   "cell_type": "code",
   "execution_count": 16,
   "outputs": [],
   "source": [
    "features_train_short = features_train[:len(features_train)//100]\n",
    "labels_train_short = labels_train[:len(labels_train)//100]\n",
    "param_grid = {'C':[10,100,1000,10000], 'kernel':['rbf']}"
   ],
   "metadata": {
    "collapsed": false,
    "pycharm": {
     "name": "#%%\n"
    }
   }
  },
  {
   "cell_type": "code",
   "execution_count": 47,
   "outputs": [
    {
     "name": "stdout",
     "output_type": "stream",
     "text": [
      "training time: 173.377 s\n"
     ]
    }
   ],
   "source": [
    "clf = SVC(C=10000., kernel='rbf')\n",
    "t0 = time()\n",
    "clf.fit(features_train,labels_train)\n",
    "print(\"training time:\", round(time()-t0, 3), \"s\")"
   ],
   "metadata": {
    "collapsed": false,
    "pycharm": {
     "name": "#%%\n"
    }
   }
  },
  {
   "cell_type": "code",
   "execution_count": 48,
   "outputs": [
    {
     "name": "stdout",
     "output_type": "stream",
     "text": [
      "training time: 18.043 s\n"
     ]
    }
   ],
   "source": [
    "t1 = time()\n",
    "pred = clf.predict(features_test)\n",
    "print(\"training time:\", round(time()-t1, 3), \"s\")"
   ],
   "metadata": {
    "collapsed": false,
    "pycharm": {
     "name": "#%%\n"
    }
   }
  },
  {
   "cell_type": "code",
   "execution_count": 49,
   "outputs": [
    {
     "data": {
      "text/plain": "0.9960182025028441"
     },
     "execution_count": 49,
     "metadata": {},
     "output_type": "execute_result"
    }
   ],
   "source": [
    "accuracy_score(labels_test, pred)"
   ],
   "metadata": {
    "collapsed": false,
    "pycharm": {
     "name": "#%%\n"
    }
   }
  },
  {
   "cell_type": "code",
   "execution_count": 50,
   "outputs": [
    {
     "name": "stdout",
     "output_type": "stream",
     "text": [
      "1 0 1\n"
     ]
    }
   ],
   "source": [
    "#What class does your SVM predict for element 10 of the test set? The 26th? The 50th?\n",
    "print(pred[10],pred[26],pred[50])"
   ],
   "metadata": {
    "collapsed": false,
    "pycharm": {
     "name": "#%%\n"
    }
   }
  },
  {
   "cell_type": "code",
   "execution_count": 53,
   "outputs": [
    {
     "data": {
      "text/plain": "866"
     },
     "execution_count": 53,
     "metadata": {},
     "output_type": "execute_result"
    }
   ],
   "source": [
    "# How many are predicted to be in the “Chris” (1) class?\n",
    "(pred==1).sum()"
   ],
   "metadata": {
    "collapsed": false,
    "pycharm": {
     "name": "#%%\n"
    }
   }
  },
  {
   "cell_type": "code",
   "execution_count": 20,
   "outputs": [
    {
     "name": "stdout",
     "output_type": "stream",
     "text": [
      "Fitting 5 folds for each of 4 candidates, totalling 20 fits\n",
      "[CV] C=10, kernel=rbf ................................................\n",
      "[CV] ................................. C=10, kernel=rbf, total=   0.2s\n",
      "[CV] C=10, kernel=rbf ................................................\n",
      "[CV] ................................. C=10, kernel=rbf, total=   0.2s\n",
      "[CV] C=10, kernel=rbf ................................................\n",
      "[CV] ................................. C=10, kernel=rbf, total=   0.2s\n",
      "[CV] C=10, kernel=rbf ................................................\n",
      "[CV] ................................. C=10, kernel=rbf, total=   0.2s\n",
      "[CV] C=10, kernel=rbf ................................................\n",
      "[CV] ................................. C=10, kernel=rbf, total=   0.1s\n",
      "[CV] C=100, kernel=rbf ...............................................\n",
      "[CV] ................................ C=100, kernel=rbf, total=   0.1s\n",
      "[CV] C=100, kernel=rbf ...............................................\n",
      "[CV] ................................ C=100, kernel=rbf, total=   0.1s\n",
      "[CV] C=100, kernel=rbf ...............................................\n",
      "[CV] ................................ C=100, kernel=rbf, total=   0.1s\n",
      "[CV] C=100, kernel=rbf ...............................................\n",
      "[CV] ................................ C=100, kernel=rbf, total=   0.1s\n",
      "[CV] C=100, kernel=rbf ...............................................\n",
      "[CV] ................................ C=100, kernel=rbf, total=   0.1s\n",
      "[CV] C=1000, kernel=rbf ..............................................\n",
      "[CV] ............................... C=1000, kernel=rbf, total=   0.1s\n",
      "[CV] C=1000, kernel=rbf ..............................................\n",
      "[CV] ............................... C=1000, kernel=rbf, total=   0.1s\n",
      "[CV] C=1000, kernel=rbf ..............................................\n",
      "[CV] ............................... C=1000, kernel=rbf, total=   0.1s\n",
      "[CV] C=1000, kernel=rbf ..............................................\n",
      "[CV] ............................... C=1000, kernel=rbf, total=   0.1s\n",
      "[CV] C=1000, kernel=rbf ..............................................\n",
      "[CV] ............................... C=1000, kernel=rbf, total=   0.1s\n",
      "[CV] C=10000, kernel=rbf .............................................\n",
      "[CV] .............................. C=10000, kernel=rbf, total=   0.1s\n",
      "[CV] C=10000, kernel=rbf .............................................\n",
      "[CV] .............................. C=10000, kernel=rbf, total=   0.1s\n",
      "[CV] C=10000, kernel=rbf .............................................\n",
      "[CV] .............................. C=10000, kernel=rbf, total=   0.1s\n",
      "[CV] C=10000, kernel=rbf .............................................\n",
      "[CV] .............................. C=10000, kernel=rbf, total=   0.1s\n",
      "[CV] C=10000, kernel=rbf .............................................\n",
      "[CV] .............................. C=10000, kernel=rbf, total=   0.1s\n"
     ]
    },
    {
     "name": "stderr",
     "output_type": "stream",
     "text": [
      "[Parallel(n_jobs=1)]: Using backend SequentialBackend with 1 concurrent workers.\n",
      "[Parallel(n_jobs=1)]: Done   1 out of   1 | elapsed:    0.1s remaining:    0.0s\n",
      "[Parallel(n_jobs=1)]: Done  20 out of  20 | elapsed:    2.2s finished\n"
     ]
    },
    {
     "data": {
      "text/plain": "{'mean_fit_time': array([0.1472827 , 0.07742872, 0.07542124, 0.07539511]),\n 'std_fit_time': array([0.02562416, 0.00261479, 0.00081766, 0.0026525 ]),\n 'mean_score_time': array([0.03222528, 0.01735787, 0.01714458, 0.01635618]),\n 'std_score_time': array([0.00730411, 0.00048477, 0.00040392, 0.00048866]),\n 'param_C': masked_array(data=[10, 100, 1000, 10000],\n              mask=[False, False, False, False],\n        fill_value='?',\n             dtype=object),\n 'param_kernel': masked_array(data=['rbf', 'rbf', 'rbf', 'rbf'],\n              mask=[False, False, False, False],\n        fill_value='?',\n             dtype=object),\n 'params': [{'C': 10, 'kernel': 'rbf'},\n  {'C': 100, 'kernel': 'rbf'},\n  {'C': 1000, 'kernel': 'rbf'},\n  {'C': 10000, 'kernel': 'rbf'}],\n 'split0_test_score': array([0.84375, 0.84375, 0.84375, 0.84375]),\n 'split1_test_score': array([0.9375, 0.9375, 0.9375, 0.9375]),\n 'split2_test_score': array([0.875, 0.875, 0.875, 0.875]),\n 'split3_test_score': array([0.90322581, 0.90322581, 0.90322581, 0.90322581]),\n 'split4_test_score': array([0.80645161, 0.80645161, 0.80645161, 0.80645161]),\n 'mean_test_score': array([0.87318548, 0.87318548, 0.87318548, 0.87318548]),\n 'std_test_score': array([0.04552346, 0.04552346, 0.04552346, 0.04552346]),\n 'rank_test_score': array([1, 1, 1, 1])}"
     },
     "execution_count": 20,
     "metadata": {},
     "output_type": "execute_result"
    }
   ],
   "source": [
    "grid = GridSearchCV(SVC(),param_grid,refit = True, verbose=2)\n",
    "\n",
    "grid.fit(features_train_short,labels_train_short)\n",
    "\n",
    "grid.cv_results_"
   ],
   "metadata": {
    "collapsed": false,
    "pycharm": {
     "name": "#%%\n"
    }
   }
  },
  {
   "cell_type": "code",
   "execution_count": 21,
   "outputs": [
    {
     "name": "stdout",
     "output_type": "stream",
     "text": [
      "[0.6160409556313993, 0.6160409556313993, 0.8213879408418657, 0.8924914675767918]\n"
     ]
    }
   ],
   "source": [
    "c_vec=[10,100,1000,10000]\n",
    "clf_c=[]\n",
    "pred=[]\n",
    "acc=[]\n",
    "for c in c_vec:\n",
    "    clf_c.append(SVC(C=c, kernel='rbf', gamma='auto'))\n",
    "    clf_c[-1].fit(features_train_short,labels_train_short)\n",
    "    pred.append(clf_c[-1].predict(features_test))\n",
    "    acc.append(accuracy_score(labels_test, pred[-1]))\n",
    "\n",
    "print(acc)"
   ],
   "metadata": {
    "collapsed": false,
    "pycharm": {
     "name": "#%%\n"
    }
   }
  },
  {
   "cell_type": "code",
   "execution_count": 21,
   "outputs": [],
   "source": [],
   "metadata": {
    "collapsed": false,
    "pycharm": {
     "name": "#%%\n"
    }
   }
  }
 ],
 "metadata": {
  "kernelspec": {
   "name": "pycharm-61798388",
   "language": "python",
   "display_name": "PyCharm (ud120-projects-py3-jupyter)"
  },
  "language_info": {
   "codemirror_mode": {
    "name": "ipython",
    "version": 3
   },
   "file_extension": ".py",
   "mimetype": "text/x-python",
   "name": "python",
   "nbconvert_exporter": "python",
   "pygments_lexer": "ipython3",
   "version": "3.8.2"
  }
 },
 "nbformat": 4,
 "nbformat_minor": 4
}